{
 "cells": [
  {
   "cell_type": "markdown",
   "metadata": {},
   "source": [
    "### Process of building Deep Neural Network:\n",
    "- Import Dataset\n",
    "- Load Dataset into **Train and Test**.\n",
    "- **Normalize** Train and Test datasets.\n",
    "- **Construct** the Model(with layers).\n",
    "- **Configure** the Model for **Training**.\n",
    "- **Train the Model** by Fitting Training data with appropriate labels.\n",
    "- **Evaluate loss and accuracy** on **validation dataset**.\n",
    "- Save the model(if satisfied with accuracy)\n",
    "- Re-instatiate the saved model.\n",
    "- **Predictions on Test/Real-life dataset**."
   ]
  },
  {
   "cell_type": "code",
   "execution_count": 2,
   "metadata": {},
   "outputs": [],
   "source": [
    "#Import required libraries:\n",
    "import numpy as np\n",
    "import matplotlib.pyplot as plt\n",
    "import tensorflow as tf"
   ]
  },
  {
   "cell_type": "markdown",
   "metadata": {},
   "source": [
    "### We are going to build Deep Learning Model using 2 approaches and compare the accuracy of both the models with respect to each other:\n",
    "- Approach:1--> Using traditional approach i.e. not using Convolution and Pooling layers\n",
    "- Approach:2--> Using Convolution and Pooling layers"
   ]
  },
  {
   "cell_type": "markdown",
   "metadata": {},
   "source": [
    "### Traditional approach:"
   ]
  },
  {
   "cell_type": "code",
   "execution_count": 3,
   "metadata": {},
   "outputs": [],
   "source": [
    "#Import the dataset:\n",
    "fashion_mnist = tf.keras.datasets.fashion_mnist\n",
    "\n",
    "#Load the dataset:\n",
    "(train_images,train_labels),(test_images,test_labels) = fashion_mnist.load_data()"
   ]
  },
  {
   "cell_type": "code",
   "execution_count": 4,
   "metadata": {},
   "outputs": [
    {
     "name": "stdout",
     "output_type": "stream",
     "text": [
      "[SHAPE-TRAIN DATASET]:: (60000, 28, 28)\n",
      "[SHAPE-TEST DATASET]:: (10000, 28, 28)\n"
     ]
    }
   ],
   "source": [
    "#Check Train and Test datasets:\n",
    "#View shapes:\n",
    "print(\"[SHAPE-TRAIN DATASET]::\",train_images.shape)\n",
    "print(\"[SHAPE-TEST DATASET]::\",test_images.shape)"
   ]
  },
  {
   "cell_type": "code",
   "execution_count": 5,
   "metadata": {},
   "outputs": [
    {
     "data": {
      "text/plain": [
       "<function matplotlib.cm.get_cmap(name=None, lut=None)>"
      ]
     },
     "execution_count": 5,
     "metadata": {},
     "output_type": "execute_result"
    }
   ],
   "source": [
    "plt.cm.get_cmap"
   ]
  },
  {
   "cell_type": "code",
   "execution_count": 6,
   "metadata": {},
   "outputs": [
    {
     "data": {
      "image/png": "[encoded data removed]",
      "text/plain": [
       "<Figure size 432x288 with 1 Axes>"
      ]
     },
     "metadata": {
      "needs_background": "light"
     },
     "output_type": "display_data"
    }
   ],
   "source": [
    "#View some of the dataset:\n",
    "'''\n",
    "# cmap='gray'::Image display in \"Gray-Scale\"\n",
    "# cmap='gray_r'::Image display in \"Inverse Gray-Scale\"\n",
    "    # Gray-Scale--> Shades \n",
    "    # Inverse Gray-Scale-->\n",
    "'''\n",
    "plt.imshow(train_images[55000],cmap='gray')\n",
    "plt.show()"
   ]
  },
  {
   "cell_type": "code",
   "execution_count": 7,
   "metadata": {},
   "outputs": [
    {
     "data": {
      "image/png": "[encoded data removed]",
      "text/plain": [
       "<Figure size 432x288 with 1 Axes>"
      ]
     },
     "metadata": {
      "needs_background": "light"
     },
     "output_type": "display_data"
    }
   ],
   "source": [
    "#While displaying the image as binary--Thresholding operation perform.\n",
    "plt.imshow(train_images[55000],cmap=plt.cm.binary)\n",
    "plt.show()"
   ]
  },
  {
   "cell_type": "code",
   "execution_count": 8,
   "metadata": {},
   "outputs": [
    {
     "data": {
      "text/plain": [
       "'\\nimport numpy as np\\nimport matplotlib.pyplot as plt\\nfrom PIL import Image\\n\\nfname = \\'image.png\\'\\nimage = Image.open(fname).convert(\"L\")\\narr = np.asarray(image)\\nplt.imshow(arr, cmap=\\'gray\\', vmin=0, vmax=255)\\nplt.show()\\n'"
      ]
     },
     "execution_count": 8,
     "metadata": {},
     "output_type": "execute_result"
    }
   ],
   "source": [
    "#The following code will load an image from a file image.png and will display it as grayscale:\n",
    "'''\n",
    "import numpy as np\n",
    "import matplotlib.pyplot as plt\n",
    "from PIL import Image\n",
    "\n",
    "fname = 'image.png'\n",
    "image = Image.open(fname).convert(\"L\")\n",
    "arr = np.asarray(image)\n",
    "plt.imshow(arr, cmap='gray', vmin=0, vmax=255)\n",
    "plt.show()\n",
    "'''"
   ]
  },
  {
   "cell_type": "markdown",
   "metadata": {},
   "source": [
    "### Normalize the datasets:"
   ]
  },
  {
   "cell_type": "code",
   "execution_count": 9,
   "metadata": {},
   "outputs": [],
   "source": [
    "train_images = train_images / 255.0\n",
    "test_images = test_images / 255.0"
   ]
  },
  {
   "cell_type": "markdown",
   "metadata": {},
   "source": [
    "### Construct the model:"
   ]
  },
  {
   "cell_type": "code",
   "execution_count": 10,
   "metadata": {},
   "outputs": [
    {
     "name": "stdout",
     "output_type": "stream",
     "text": [
      "WARNING:tensorflow:From C:\\Users\\Phase\\AppData\\Roaming\\Python\\Python37\\site-packages\\tensorflow_core\\python\\ops\\resource_variable_ops.py:1630: calling BaseResourceVariable.__init__ (from tensorflow.python.ops.resource_variable_ops) with constraint is deprecated and will be removed in a future version.\n",
      "Instructions for updating:\n",
      "If using Keras pass *_constraint arguments to layers.\n"
     ]
    }
   ],
   "source": [
    "model_traditional = tf.keras.models.Sequential([tf.keras.layers.Flatten(input_shape=(28,28)),\n",
    "                                               tf.keras.layers.Dense(128,activation=tf.nn.relu),\n",
    "                                               tf.keras.layers.Dense(256,activation=tf.nn.relu),\n",
    "                                               tf.keras.layers.Dense(10,activation=tf.nn.softmax)])"
   ]
  },
  {
   "cell_type": "markdown",
   "metadata": {},
   "source": [
    "### View Model Summary:"
   ]
  },
  {
   "cell_type": "code",
   "execution_count": 11,
   "metadata": {},
   "outputs": [
    {
     "name": "stdout",
     "output_type": "stream",
     "text": [
      "Model: \"sequential\"\n",
      "_________________________________________________________________\n",
      "Layer (type)                 Output Shape              Param #   \n",
      "=================================================================\n",
      "flatten (Flatten)            (None, 784)               0         \n",
      "_________________________________________________________________\n",
      "dense (Dense)                (None, 128)               100480    \n",
      "_________________________________________________________________\n",
      "dense_1 (Dense)              (None, 256)               33024     \n",
      "_________________________________________________________________\n",
      "dense_2 (Dense)              (None, 10)                2570      \n",
      "=================================================================\n",
      "Total params: 136,074\n",
      "Trainable params: 136,074\n",
      "Non-trainable params: 0\n",
      "_________________________________________________________________\n"
     ]
    }
   ],
   "source": [
    "model_traditional.summary()"
   ]
  },
  {
   "cell_type": "markdown",
   "metadata": {},
   "source": [
    "### Configure the Model for Training:"
   ]
  },
  {
   "cell_type": "code",
   "execution_count": 12,
   "metadata": {},
   "outputs": [],
   "source": [
    "model_traditional.compile(optimizer='adam',loss=tf.keras.losses.sparse_categorical_crossentropy,\n",
    "                         metrics=['accuracy'])"
   ]
  },
  {
   "cell_type": "markdown",
   "metadata": {},
   "source": [
    "### Fit the Training data with Training labels and specify number of epochs for training:"
   ]
  },
  {
   "cell_type": "code",
   "execution_count": 13,
   "metadata": {},
   "outputs": [
    {
     "name": "stdout",
     "output_type": "stream",
     "text": [
      "Train on 60000 samples\n",
      "Epoch 1/3\n",
      "60000/60000 [==============================] - 8s 141us/sample - loss: 0.4763 - acc: 0.8298\n",
      "Epoch 2/3\n",
      "60000/60000 [==============================] - 7s 111us/sample - loss: 0.3615 - acc: 0.8674\n",
      "Epoch 3/3\n",
      "60000/60000 [==============================] - 7s 115us/sample - loss: 0.3250 - acc: 0.8795\n"
     ]
    },
    {
     "data": {
      "text/plain": [
       "<tensorflow.python.keras.callbacks.History at 0x2276dc7ca48>"
      ]
     },
     "execution_count": 13,
     "metadata": {},
     "output_type": "execute_result"
    }
   ],
   "source": [
    "model_traditional.fit(train_images,train_labels,epochs=3)"
   ]
  },
  {
   "cell_type": "markdown",
   "metadata": {},
   "source": [
    "### Evaluate Model's accuracy on Validation Dataset:"
   ]
  },
  {
   "cell_type": "code",
   "execution_count": 14,
   "metadata": {},
   "outputs": [
    {
     "name": "stdout",
     "output_type": "stream",
     "text": [
      "10000/10000 [==============================] - 1s 77us/sample - loss: 0.3849 - acc: 0.8651\n",
      "[LOSS-VALIDATION]:: 0.38493964943885806\n",
      "[ACCURACY-VALIDATION]:: 0.8651\n"
     ]
    }
   ],
   "source": [
    "val_loss,val_acc = model_traditional.evaluate(test_images,test_labels)\n",
    "print(\"[LOSS-VALIDATION]::\",val_loss)\n",
    "print(\"[ACCURACY-VALIDATION]::\",val_acc)"
   ]
  },
  {
   "cell_type": "markdown",
   "metadata": {},
   "source": [
    "Our accuracy is about **87% on Training Dataset** and the same(not usually happen) **87% on validation dataset**. Not Bad..! But we need to think ahead and rethink how do we make this accuracy even better? One way to use **\"Convolutions\"**. In short, Convolution operation **narrow down** the contents of the image to focous on specific and distinct details.\n",
    "\n",
    "Feature Extraction::This is perfect for Computer Vision,because it's features that can highlights and distingquish **one object from another** and then the amount of information needed is much less for training,because we'll just train on Highlighted features. And this is the concept behind **Convolutional Neural Networks**.\n",
    "\n",
    "The Convolution layers are before Dense layers with the purpose of information going to the dense layers is more focussed, and possibly more accurate(fetaures)"
   ]
  },
  {
   "cell_type": "markdown",
   "metadata": {},
   "source": [
    "### Convolutional Neural Network:"
   ]
  },
  {
   "cell_type": "code",
   "execution_count": 15,
   "metadata": {},
   "outputs": [
    {
     "name": "stdout",
     "output_type": "stream",
     "text": [
      "1.15.2\n"
     ]
    }
   ],
   "source": [
    "#Import tensorflow module:\n",
    "import tensorflow as tf\n",
    "#Print its vesion:\n",
    "print(tf.__version__)"
   ]
  },
  {
   "cell_type": "code",
   "execution_count": 16,
   "metadata": {},
   "outputs": [],
   "source": [
    "#Import Fashion MNIST dataset and load it into train and test dataset:\n",
    "fashion_mnist = tf.keras.datasets.fashion_mnist\n",
    "(train_images,train_labels),(test_images,test_labels) = fashion_mnist.load_data()"
   ]
  },
  {
   "cell_type": "code",
   "execution_count": 17,
   "metadata": {},
   "outputs": [
    {
     "name": "stdout",
     "output_type": "stream",
     "text": [
      "[SHAPE->TRAINING DATASET]:: (60000, 28, 28)\n",
      "[SHAPE->TESTING DATASET]:: (10000, 28, 28)\n"
     ]
    }
   ],
   "source": [
    "#Check the shape of training and testing dataset:\n",
    "print(\"[SHAPE->TRAINING DATASET]::\",train_images.shape)\n",
    "print(\"[SHAPE->TESTING DATASET]::\",test_images.shape)"
   ]
  },
  {
   "cell_type": "code",
   "execution_count": 18,
   "metadata": {},
   "outputs": [],
   "source": [
    "#Reshape the dataset--> That's because the first convolution layer expects a single tensor containing everything, \n",
    "#so instead of (60,000 28x28)(color channel is not specified) items in a list, \n",
    "#we have a single 4D list that is (60,000x28x28x1)--Added color channel as 1-GrayScale image,3-Color image, \n",
    "#and the same for the test images and then normalize the datasets:\n",
    "train_images = train_images.reshape(60000,28,28,1)\n",
    "test_images = test_images.reshape(10000,28,28,1)"
   ]
  },
  {
   "cell_type": "code",
   "execution_count": 19,
   "metadata": {},
   "outputs": [
    {
     "name": "stdout",
     "output_type": "stream",
     "text": [
      "[SHAPE->TRAINING DATASET]:: (60000, 28, 28, 1)\n",
      "[SHAPE->TESTING DATASET]:: (10000, 28, 28, 1)\n"
     ]
    }
   ],
   "source": [
    "#Check shape again:\n",
    "print(\"[SHAPE->TRAINING DATASET]::\",train_images.shape)\n",
    "print(\"[SHAPE->TESTING DATASET]::\",test_images.shape)"
   ]
  },
  {
   "cell_type": "code",
   "execution_count": 20,
   "metadata": {},
   "outputs": [],
   "source": [
    "#Normalize the datasets as usual method:\n",
    "train_images = train_images / 255.0\n",
    "test_images = test_images / 255.0"
   ]
  },
  {
   "cell_type": "markdown",
   "metadata": {},
   "source": [
    "#### Adding Convolution Layers, the Parameters are:\n",
    "- The number of Convolutions(feature maps) we want to generate. Purely arbitrary, but good to start with something in the order of 32\n",
    "- The size of Convolution Kernel. In our case,we took 3x3 grid.\n",
    "- The activation function. In our case,we used relu.\n",
    "- The shape of the input data.\n",
    "- Next, the Convolution layer follows with a **MaxPooling layer** which use to **compress the image**, but **maintaining the content of the features** that were highlighted or we can say extracted by the convlution layer.\n",
    "- We are going to add 2 Convolution Layers and MaxPooling layer follows by each Convolution Layer.\n",
    "- View Model summary to see the size and shape of the network."
   ]
  },
  {
   "cell_type": "code",
   "execution_count": 21,
   "metadata": {},
   "outputs": [],
   "source": [
    "#We are going to create same 'Sequential Model' as previous but with additional 'Convolution' and 'Pooling' layers:\n",
    "#We are going to add layers in array format::\n",
    "# Model type:: Sequential\n",
    "# Type of layers:: 2--> Convolutions 2-->Pooling 1-->Flatten 2-->Dense 1-->Output\n",
    "model_new = tf.keras.models.Sequential([tf.keras.layers.Conv2D(32,(3,3),activation=tf.nn.relu,input_shape=(28,28,1)),\n",
    "                                       tf.keras.layers.MaxPooling2D(pool_size=(2,2)),\n",
    "                                       tf.keras.layers.Conv2D(64,(3,3),activation=tf.nn.relu),\n",
    "                                       tf.keras.layers.MaxPooling2D(pool_size=(2,2)),\n",
    "                                       tf.keras.layers.Flatten(),\n",
    "                                       tf.keras.layers.Dense(128,activation=tf.nn.relu),\n",
    "                                       tf.keras.layers.Dense(256,activation=tf.nn.relu),\n",
    "                                       tf.keras.layers.Dense(10,activation=tf.nn.softmax)])"
   ]
  },
  {
   "cell_type": "code",
   "execution_count": 22,
   "metadata": {},
   "outputs": [
    {
     "name": "stdout",
     "output_type": "stream",
     "text": [
      "Model: \"sequential_1\"\n",
      "_________________________________________________________________\n",
      "Layer (type)                 Output Shape              Param #   \n",
      "=================================================================\n",
      "conv2d (Conv2D)              (None, 26, 26, 32)        320       \n",
      "_________________________________________________________________\n",
      "max_pooling2d (MaxPooling2D) (None, 13, 13, 32)        0         \n",
      "_________________________________________________________________\n",
      "conv2d_1 (Conv2D)            (None, 11, 11, 64)        18496     \n",
      "_________________________________________________________________\n",
      "max_pooling2d_1 (MaxPooling2 (None, 5, 5, 64)          0         \n",
      "_________________________________________________________________\n",
      "flatten_1 (Flatten)          (None, 1600)              0         \n",
      "_________________________________________________________________\n",
      "dense_3 (Dense)              (None, 128)               204928    \n",
      "_________________________________________________________________\n",
      "dense_4 (Dense)              (None, 256)               33024     \n",
      "_________________________________________________________________\n",
      "dense_5 (Dense)              (None, 10)                2570      \n",
      "=================================================================\n",
      "Total params: 259,338\n",
      "Trainable params: 259,338\n",
      "Non-trainable params: 0\n",
      "_________________________________________________________________\n"
     ]
    }
   ],
   "source": [
    "#Print Model Summary:\n",
    "model_new.summary()"
   ]
  },
  {
   "cell_type": "markdown",
   "metadata": {},
   "source": [
    "### Configure the model for training:"
   ]
  },
  {
   "cell_type": "code",
   "execution_count": 23,
   "metadata": {},
   "outputs": [],
   "source": [
    "#Compile the model and pass 3 parameters--:\n",
    "    # Optimizer \n",
    "    # loss\n",
    "    # metrics to measure \n",
    "model_new.compile(optimizer='adam',loss=tf.keras.losses.sparse_categorical_crossentropy,metrics=['accuracy'])"
   ]
  },
  {
   "cell_type": "markdown",
   "metadata": {},
   "source": [
    "### Fit the model with Training data and note the accuracy:"
   ]
  },
  {
   "cell_type": "code",
   "execution_count": 24,
   "metadata": {},
   "outputs": [
    {
     "name": "stdout",
     "output_type": "stream",
     "text": [
      "Train on 60000 samples\n",
      "Epoch 1/3\n",
      "60000/60000 [==============================] - 73s 1ms/sample - loss: 0.4618 - acc: 0.83130s - loss: 0.4624 - acc: 0.8\n",
      "Epoch 2/3\n",
      "60000/60000 [==============================] - 72s 1ms/sample - loss: 0.2988 - acc: 0.8894\n",
      "Epoch 3/3\n",
      "60000/60000 [==============================] - 77s 1ms/sample - loss: 0.2497 - acc: 0.9067\n"
     ]
    },
    {
     "data": {
      "text/plain": [
       "<tensorflow.python.keras.callbacks.History at 0x2276a8dc0c8>"
      ]
     },
     "execution_count": 24,
     "metadata": {},
     "output_type": "execute_result"
    }
   ],
   "source": [
    "model_new.fit(train_images,train_labels,epochs=3)"
   ]
  },
  {
   "cell_type": "markdown",
   "metadata": {},
   "source": [
    "- **Conclusion**:\n",
    "    - The Training **accuracy is significatly increase** compared with our first model(without convolution layers).\n",
    "    - We can increase more epochs as loss is seems decreasing."
   ]
  },
  {
   "cell_type": "code",
   "execution_count": 25,
   "metadata": {},
   "outputs": [
    {
     "name": "stdout",
     "output_type": "stream",
     "text": [
      "10000/10000 [==============================] - 4s 396us/sample - loss: 0.2622 - acc: 0.9040\n",
      "[TEST LOSS]:: 0.2622016505479813\n",
      "[TEST ACCURACY]:: 0.904\n"
     ]
    }
   ],
   "source": [
    "#Let's evaluate model on Validation dataset and note test loss and test accuracy:\n",
    "test_loss,test_accuracy = model_new.evaluate(test_images,test_labels)\n",
    "print(\"[TEST LOSS]::\",test_loss)\n",
    "print(\"[TEST ACCURACY]::\",test_accuracy)"
   ]
  },
  {
   "cell_type": "markdown",
   "metadata": {},
   "source": [
    "### Visualizing the Convolutions and Pooling operations:"
   ]
  },
  {
   "cell_type": "code",
   "execution_count": 26,
   "metadata": {},
   "outputs": [
    {
     "name": "stdout",
     "output_type": "stream",
     "text": [
      "[9 2 1 1 6 1 4 6 5 7 4 5 7 3 4 1 2 4 8 0 2 5 7 9 1 4 6 0 9 3 8 8 3 3 8 0 7\n",
      " 5 7 9 6 1 3 7 6 7 2 1 2 2 4 4 5 8 2 2 8 4 8 0 7 7 8 5 1 1 2 3 9 8 7 0 2 6\n",
      " 2 3 1 2 8 4 1 8 5 9 5 0 3 2 0 6 5 3 6 7 1 8 0 1 4 2]\n"
     ]
    }
   ],
   "source": [
    "print(test_labels[:100])"
   ]
  },
  {
   "cell_type": "code",
   "execution_count": 27,
   "metadata": {},
   "outputs": [],
   "source": [
    "#Import plotting library:\n",
    "import matplotlib.pyplot as plt"
   ]
  },
  {
   "cell_type": "code",
   "execution_count": 28,
   "metadata": {},
   "outputs": [],
   "source": [
    "(X_train,Y_train),(X_test,Y_test)  = fashion_mnist.load_data()"
   ]
  },
  {
   "cell_type": "code",
   "execution_count": 30,
   "metadata": {},
   "outputs": [
    {
     "data": {
      "text/plain": [
       "[<tensorflow.python.keras.layers.convolutional.Conv2D at 0x227688b2248>,\n",
       " <tensorflow.python.keras.layers.pooling.MaxPooling2D at 0x227688b2788>,\n",
       " <tensorflow.python.keras.layers.convolutional.Conv2D at 0x227688b2808>,\n",
       " <tensorflow.python.keras.layers.pooling.MaxPooling2D at 0x227688ba0c8>,\n",
       " <tensorflow.python.keras.layers.core.Flatten at 0x227688ba408>,\n",
       " <tensorflow.python.keras.layers.core.Dense at 0x227688ba908>,\n",
       " <tensorflow.python.keras.layers.core.Dense at 0x227688bc148>,\n",
       " <tensorflow.python.keras.layers.core.Dense at 0x227688bc708>]"
      ]
     },
     "execution_count": 30,
     "metadata": {},
     "output_type": "execute_result"
    }
   ],
   "source": [
    "model_new.layers"
   ]
  },
  {
   "cell_type": "code",
   "execution_count": 31,
   "metadata": {},
   "outputs": [
    {
     "name": "stdout",
     "output_type": "stream",
     "text": [
      "[<tf.Tensor 'conv2d/Relu:0' shape=(?, 26, 26, 32) dtype=float32>]\n",
      "[<tf.Tensor 'conv2d/Relu:0' shape=(?, 26, 26, 32) dtype=float32>, <tf.Tensor 'max_pooling2d/MaxPool:0' shape=(?, 13, 13, 32) dtype=float32>]\n",
      "[<tf.Tensor 'conv2d/Relu:0' shape=(?, 26, 26, 32) dtype=float32>, <tf.Tensor 'max_pooling2d/MaxPool:0' shape=(?, 13, 13, 32) dtype=float32>, <tf.Tensor 'conv2d_1/Relu:0' shape=(?, 11, 11, 64) dtype=float32>]\n",
      "[<tf.Tensor 'conv2d/Relu:0' shape=(?, 26, 26, 32) dtype=float32>, <tf.Tensor 'max_pooling2d/MaxPool:0' shape=(?, 13, 13, 32) dtype=float32>, <tf.Tensor 'conv2d_1/Relu:0' shape=(?, 11, 11, 64) dtype=float32>, <tf.Tensor 'max_pooling2d_1/MaxPool:0' shape=(?, 5, 5, 64) dtype=float32>]\n",
      "[<tf.Tensor 'conv2d/Relu:0' shape=(?, 26, 26, 32) dtype=float32>, <tf.Tensor 'max_pooling2d/MaxPool:0' shape=(?, 13, 13, 32) dtype=float32>, <tf.Tensor 'conv2d_1/Relu:0' shape=(?, 11, 11, 64) dtype=float32>, <tf.Tensor 'max_pooling2d_1/MaxPool:0' shape=(?, 5, 5, 64) dtype=float32>, <tf.Tensor 'flatten_1/Reshape:0' shape=(?, 1600) dtype=float32>]\n",
      "[<tf.Tensor 'conv2d/Relu:0' shape=(?, 26, 26, 32) dtype=float32>, <tf.Tensor 'max_pooling2d/MaxPool:0' shape=(?, 13, 13, 32) dtype=float32>, <tf.Tensor 'conv2d_1/Relu:0' shape=(?, 11, 11, 64) dtype=float32>, <tf.Tensor 'max_pooling2d_1/MaxPool:0' shape=(?, 5, 5, 64) dtype=float32>, <tf.Tensor 'flatten_1/Reshape:0' shape=(?, 1600) dtype=float32>, <tf.Tensor 'dense_3/Relu:0' shape=(?, 128) dtype=float32>]\n",
      "[<tf.Tensor 'conv2d/Relu:0' shape=(?, 26, 26, 32) dtype=float32>, <tf.Tensor 'max_pooling2d/MaxPool:0' shape=(?, 13, 13, 32) dtype=float32>, <tf.Tensor 'conv2d_1/Relu:0' shape=(?, 11, 11, 64) dtype=float32>, <tf.Tensor 'max_pooling2d_1/MaxPool:0' shape=(?, 5, 5, 64) dtype=float32>, <tf.Tensor 'flatten_1/Reshape:0' shape=(?, 1600) dtype=float32>, <tf.Tensor 'dense_3/Relu:0' shape=(?, 128) dtype=float32>, <tf.Tensor 'dense_4/Relu:0' shape=(?, 256) dtype=float32>]\n",
      "[<tf.Tensor 'conv2d/Relu:0' shape=(?, 26, 26, 32) dtype=float32>, <tf.Tensor 'max_pooling2d/MaxPool:0' shape=(?, 13, 13, 32) dtype=float32>, <tf.Tensor 'conv2d_1/Relu:0' shape=(?, 11, 11, 64) dtype=float32>, <tf.Tensor 'max_pooling2d_1/MaxPool:0' shape=(?, 5, 5, 64) dtype=float32>, <tf.Tensor 'flatten_1/Reshape:0' shape=(?, 1600) dtype=float32>, <tf.Tensor 'dense_3/Relu:0' shape=(?, 128) dtype=float32>, <tf.Tensor 'dense_4/Relu:0' shape=(?, 256) dtype=float32>, <tf.Tensor 'dense_5/Softmax:0' shape=(?, 10) dtype=float32>]\n"
     ]
    }
   ],
   "source": [
    "layer_outputs = []\n",
    "for layer in model_new.layers:\n",
    "    layer_outputs.append(layer.output)\n",
    "    print(layer_outputs)"
   ]
  },
  {
   "cell_type": "code",
   "execution_count": 32,
   "metadata": {},
   "outputs": [
    {
     "data": {
      "image/png": "[encoded data removed]",
      "text/plain": [
       "<Figure size 720x360 with 12 Axes>"
      ]
     },
     "metadata": {
      "needs_background": "light"
     },
     "output_type": "display_data"
    }
   ],
   "source": [
    "fig,axarr = plt.subplots(3,4,figsize=(10,5))\n",
    "FIRST_IMAGE=0\n",
    "SECOND_IMAGE=10\n",
    "THIRD_IMAGE=20\n",
    "CONVOLUTION_NUMBER = 1\n",
    "\n",
    "from tensorflow.keras import models\n",
    "\n",
    "layer_outputs = []\n",
    "for layer in model_new.layers:\n",
    "    layer_outputs.append(layer.output)\n",
    "    \n",
    "activation_model = tf.keras.models.Model(inputs = model_new.input, outputs = layer_outputs)\n",
    "\n",
    "for x in range(0,4):\n",
    "    f1 = activation_model.predict(test_images[FIRST_IMAGE].reshape(1,28,28,1))[x]\n",
    "    axarr[0,x].imshow(f1[0, : , :, CONVOLUTION_NUMBER],cmap='inferno')\n",
    "    axarr[0,x].grid(False)\n",
    "    \n",
    "    f2 = activation_model.predict(test_images[SECOND_IMAGE].reshape(1,28,28,1))[x]\n",
    "    axarr[1,x].imshow(f2[0, : , :, CONVOLUTION_NUMBER],cmap='inferno')\n",
    "    axarr[1,x].grid(False)\n",
    "    \n",
    "    f3 = activation_model.predict(test_images[THIRD_IMAGE].reshape(1,28,28,1))[x]\n",
    "    axarr[2,x].imshow(f3[0, : , :, CONVOLUTION_NUMBER],cmap='inferno')\n",
    "    axarr[2,x].grid(False)"
   ]
  },
  {
   "cell_type": "code",
   "execution_count": 33,
   "metadata": {},
   "outputs": [
    {
     "data": {
      "text/plain": [
       "Text(0.5, 1.0, 'IMAGE-AT INDEX 20')"
      ]
     },
     "execution_count": 33,
     "metadata": {},
     "output_type": "execute_result"
    },
    {
     "data": {
      "image/png": "[encoded data removed]",
      "text/plain": [
       "<Figure size 720x360 with 3 Axes>"
      ]
     },
     "metadata": {
      "needs_background": "light"
     },
     "output_type": "display_data"
    }
   ],
   "source": [
    "figure,axes = plt.subplots(1,3,figsize=(10,5))\n",
    "axes[0].imshow(X_test[FIRST_IMAGE],cmap='gray')\n",
    "axes[0].set_title(\"IMAGE-AT INDEX {}\".format(FIRST_IMAGE))\n",
    "axes[1].imshow(X_test[SECOND_IMAGE],cmap='gray')\n",
    "axes[1].set_title(\"IMAGE-AT INDEX {}\".format(SECOND_IMAGE))\n",
    "axes[2].imshow(X_test[THIRD_IMAGE],cmap='gray')\n",
    "axes[2].set_title(\"IMAGE-AT INDEX {}\".format(THIRD_IMAGE))"
   ]
  },
  {
   "cell_type": "markdown",
   "metadata": {},
   "source": [
    "- **EXPERIMENTS-**\n",
    "    - Editing the Convolutions(the number of filters). Change the standard 32s to either 16 or 64. Measure its impact on accuracy and on training time.\n",
    "    - Removation of final Convolution layer. Measure its impact on accuracy and on training time?\n",
    "    - Effect of adding more Convolution layers? Measure its impact.\n",
    "    - **Removation all Convolutions without the the first one. Measure its impact.**\n",
    "    - Implementation of callback to check on the loss function and to stop training once it hit a certain amount of accuracy."
   ]
  },
  {
   "cell_type": "markdown",
   "metadata": {},
   "source": [
    "### EXPERIMENT :: 1-->\n",
    "   - Objective:: \n",
    "       - Editing the **Number of Convolutions(number of filters)** and note its impact on accuracy and training time.\n",
    "   \n",
    "   _[NOTE:We are keeping rest of the parameters(**number of neurons in Dense layers,activation function in both Convolution and Dense layers**) same to measure extact impact of Change in Filter numbers on Accuracy and Training Time]_."
   ]
  },
  {
   "cell_type": "code",
   "execution_count": 38,
   "metadata": {},
   "outputs": [],
   "source": [
    "#STEP-1--> Construct the Model::\n",
    "#Create an instance of class 'Sequential'(it basically tells that our Model consist stack of layers):\n",
    "model_exp_1 = tf.keras.models.Sequential()\n",
    "\n",
    "#Add layers to model:\n",
    "#Specifiy 8 filters of 3x3 at 1st layer-->\n",
    "model_exp_1.add(tf.keras.layers.Conv2D(8,(3,3),activation=tf.nn.relu,input_shape=(28,28,1)))\n",
    "model_exp_1.add(tf.keras.layers.MaxPooling2D(pool_size=(2,2)))\n",
    "\n",
    "#Specifiy 16 filters of 3x3 at 2nd layer-->\n",
    "model_exp_1.add(tf.keras.layers.Conv2D(16,(3,3),activation=tf.nn.relu))\n",
    "model_exp_1.add(tf.keras.layers.MaxPooling2D(pool_size=(2,2)))\n",
    "\n",
    "#Input Flatten layer for gievn to Dense Layer-->\n",
    "model_exp_1.add(tf.keras.layers.Flatten())\n",
    "\n",
    "#Add 2 Dense layers-->\n",
    "model_exp_1.add(tf.keras.layers.Dense(128,activation=tf.nn.relu))\n",
    "model_exp_1.add(tf.keras.layers.Dense(256,activation=tf.nn.relu))\n",
    "\n",
    "#Add Output layers-->\n",
    "model_exp_1.add(tf.keras.layers.Dense(10,activation=tf.nn.softmax))"
   ]
  },
  {
   "cell_type": "code",
   "execution_count": 39,
   "metadata": {},
   "outputs": [
    {
     "name": "stdout",
     "output_type": "stream",
     "text": [
      "Model: \"sequential_4\"\n",
      "_________________________________________________________________\n",
      "Layer (type)                 Output Shape              Param #   \n",
      "=================================================================\n",
      "conv2d_3 (Conv2D)            (None, 26, 26, 8)         80        \n",
      "_________________________________________________________________\n",
      "max_pooling2d_2 (MaxPooling2 (None, 13, 13, 8)         0         \n",
      "_________________________________________________________________\n",
      "conv2d_4 (Conv2D)            (None, 11, 11, 16)        1168      \n",
      "_________________________________________________________________\n",
      "max_pooling2d_3 (MaxPooling2 (None, 5, 5, 16)          0         \n",
      "_________________________________________________________________\n",
      "flatten_2 (Flatten)          (None, 400)               0         \n",
      "_________________________________________________________________\n",
      "dense_6 (Dense)              (None, 128)               51328     \n",
      "_________________________________________________________________\n",
      "dense_7 (Dense)              (None, 256)               33024     \n",
      "_________________________________________________________________\n",
      "dense_8 (Dense)              (None, 10)                2570      \n",
      "=================================================================\n",
      "Total params: 88,170\n",
      "Trainable params: 88,170\n",
      "Non-trainable params: 0\n",
      "_________________________________________________________________\n"
     ]
    }
   ],
   "source": [
    "#Print Model summary:\n",
    "model_exp_1.summary()"
   ]
  },
  {
   "cell_type": "code",
   "execution_count": 40,
   "metadata": {},
   "outputs": [],
   "source": [
    "#Configuare/Compile the model for training:\n",
    "model_exp_1.compile(optimizer='adam',\n",
    "                   loss=tf.keras.losses.sparse_categorical_crossentropy,\n",
    "                   metrics=['accuracy'])"
   ]
  },
  {
   "cell_type": "code",
   "execution_count": 43,
   "metadata": {},
   "outputs": [
    {
     "name": "stdout",
     "output_type": "stream",
     "text": [
      "Train on 60000 samples\n",
      "Epoch 1/3\n",
      "60000/60000 [==============================] - 30s 508us/sample - loss: 0.5152 - acc: 0.8079 - lo\n",
      "Epoch 2/3\n",
      "60000/60000 [==============================] - 31s 510us/sample - loss: 0.3490 - acc: 0.8721\n",
      "Epoch 3/3\n",
      "60000/60000 [==============================] - 35s 576us/sample - loss: 0.3003 - acc: 0.8889\n"
     ]
    },
    {
     "data": {
      "text/plain": [
       "<tensorflow.python.keras.callbacks.History at 0x22779289608>"
      ]
     },
     "execution_count": 43,
     "metadata": {},
     "output_type": "execute_result"
    }
   ],
   "source": [
    "#Fit the model with Training data and specify number of epochs:\n",
    "model_exp_1.fit(train_images,train_labels,epochs=3)"
   ]
  },
  {
   "cell_type": "code",
   "execution_count": 44,
   "metadata": {},
   "outputs": [
    {
     "name": "stdout",
     "output_type": "stream",
     "text": [
      "10000/10000 [==============================] - 2s 219us/sample - loss: 0.3173 - acc: 0.8838\n",
      "[TEST LOSS]:: 0.3173277768373489\n",
      "[TEST ACCURACY]:: 0.8838\n"
     ]
    }
   ],
   "source": [
    "#Let's evaluate model on Validation dataset and note test loss and test accuracy:\n",
    "test_loss,test_accuracy = model_exp_1.evaluate(test_images,test_labels)\n",
    "print(\"[TEST LOSS]::\",test_loss)\n",
    "print(\"[TEST ACCURACY]::\",test_accuracy)"
   ]
  },
  {
   "cell_type": "markdown",
   "metadata": {},
   "source": [
    "**Results::**\n",
    "- Observations-->\n",
    "    - Total Training time required(in case of 32 filters in first Convolution layer and 64 filters in second Convolution layer):: 222 Seconds\n",
    "    - Accuracy:: 90%\n",
    "\n",
    "    - Total Training time required(in case of 16 filters in first Convolution layer and 32 filters in second Convolution layer):: 96 Seconds\n",
    "    - Accuracy:: 88%\n",
    "\n",
    "**Conclusion::**\n",
    "- By observing the above result we can say that if we reduce the number of filters in first and second convolution layers the training time gets decrease but accuracy is 88%.\n",
    "- And if we increase the number of filters in first and second convolution layers the training time gets increase and we receive the training and testing accuracy around 90% which is good to consider.\n",
    "\n",
    "**Sol::**\n",
    "- In the case of more number of filters in 1st and 2nd case we can use **GPU** support to reduce the training time or I can say to perform training faster. But we need to go with the first choice i.e.more number of filters in 1st and 2nd layers."
   ]
  },
  {
   "cell_type": "markdown",
   "metadata": {},
   "source": [
    "### EXPERIMENT :: 2-->\n",
    "Objective:: \n",
    "- Removation of final Convolution layer. \n",
    "- Measurement of its impact on accuracy and on training time.\n",
    "\n",
    "[NOTE:We are keeping rest of the parameters(number of neurons in Dense layers,activation function in both Convolution and Dense layers) same to measure extact impact of Change in Filter numbers on Accuracy and Training Time]."
   ]
  },
  {
   "cell_type": "code",
   "execution_count": 45,
   "metadata": {},
   "outputs": [],
   "source": [
    "#STEP-1--> Construct the Model::\n",
    "#Create an instance of class 'Sequential'(it basically tells that our Model consist stack of layers):\n",
    "model_exp_2 = tf.keras.models.Sequential()\n",
    "\n",
    "#Add layers to model:\n",
    "#Specifiy 32 filters of 3x3 at 1st layer-->\n",
    "model_exp_2.add(tf.keras.layers.Conv2D(32,(3,3),activation=tf.nn.relu,input_shape=(28,28,1)))\n",
    "model_exp_2.add(tf.keras.layers.MaxPooling2D(pool_size=(2,2)))\n",
    "\n",
    "#Specifiy 16 filters of 3x3 at 2nd layer-->\n",
    "#model_exp_1.add(tf.keras.layers.Conv2D(16,(3,3),activation=tf.nn.relu))\n",
    "#[NOTE::We are keeping the pooling layer as it is-->]\n",
    "model_exp_2.add(tf.keras.layers.MaxPooling2D(pool_size=(2,2)))\n",
    "\n",
    "#Input Flatten layer for gievn to Dense Layer-->\n",
    "model_exp_2.add(tf.keras.layers.Flatten())\n",
    "\n",
    "#Add 2 Dense layers-->\n",
    "model_exp_2.add(tf.keras.layers.Dense(128,activation=tf.nn.relu))\n",
    "model_exp_2.add(tf.keras.layers.Dense(256,activation=tf.nn.relu))\n",
    "\n",
    "#Add Output layers-->\n",
    "model_exp_2.add(tf.keras.layers.Dense(10,activation=tf.nn.softmax))"
   ]
  },
  {
   "cell_type": "code",
   "execution_count": 46,
   "metadata": {},
   "outputs": [
    {
     "name": "stdout",
     "output_type": "stream",
     "text": [
      "Model: \"sequential_5\"\n",
      "_________________________________________________________________\n",
      "Layer (type)                 Output Shape              Param #   \n",
      "=================================================================\n",
      "conv2d_5 (Conv2D)            (None, 26, 26, 32)        320       \n",
      "_________________________________________________________________\n",
      "max_pooling2d_4 (MaxPooling2 (None, 13, 13, 32)        0         \n",
      "_________________________________________________________________\n",
      "max_pooling2d_5 (MaxPooling2 (None, 6, 6, 32)          0         \n",
      "_________________________________________________________________\n",
      "flatten_3 (Flatten)          (None, 1152)              0         \n",
      "_________________________________________________________________\n",
      "dense_9 (Dense)              (None, 128)               147584    \n",
      "_________________________________________________________________\n",
      "dense_10 (Dense)             (None, 256)               33024     \n",
      "_________________________________________________________________\n",
      "dense_11 (Dense)             (None, 10)                2570      \n",
      "=================================================================\n",
      "Total params: 183,498\n",
      "Trainable params: 183,498\n",
      "Non-trainable params: 0\n",
      "_________________________________________________________________\n"
     ]
    }
   ],
   "source": [
    "#Print Model summary:\n",
    "model_exp_2.summary()"
   ]
  },
  {
   "cell_type": "code",
   "execution_count": 47,
   "metadata": {},
   "outputs": [],
   "source": [
    "#Configuare/Compile the model for training:\n",
    "model_exp_2.compile(optimizer='adam',\n",
    "                   loss=tf.keras.losses.sparse_categorical_crossentropy,\n",
    "                   metrics=['accuracy'])"
   ]
  },
  {
   "cell_type": "code",
   "execution_count": 48,
   "metadata": {},
   "outputs": [
    {
     "name": "stdout",
     "output_type": "stream",
     "text": [
      "Train on 60000 samples\n",
      "Epoch 1/3\n",
      "60000/60000 [==============================] - 37s 620us/sample - loss: 0.4640 - acc: 0.8277\n",
      "Epoch 2/3\n",
      "60000/60000 [==============================] - 36s 605us/sample - loss: 0.3116 - acc: 0.8834\n",
      "Epoch 3/3\n",
      "60000/60000 [==============================] - 36s 602us/sample - loss: 0.2741 - acc: 0.8978\n"
     ]
    },
    {
     "data": {
      "text/plain": [
       "<tensorflow.python.keras.callbacks.History at 0x227782a4508>"
      ]
     },
     "execution_count": 48,
     "metadata": {},
     "output_type": "execute_result"
    }
   ],
   "source": [
    "#Fit the model with Training data and specify number of epochs:\n",
    "model_exp_2.fit(train_images,train_labels,epochs=3)"
   ]
  },
  {
   "cell_type": "code",
   "execution_count": 49,
   "metadata": {},
   "outputs": [
    {
     "name": "stdout",
     "output_type": "stream",
     "text": [
      "10000/10000 [==============================] - 2s 232us/sample - loss: 0.3068 - acc: 0.8814\n",
      "[TEST LOSS]:: 0.30683049824237824\n",
      "[TEST ACCURACY]:: 0.8814\n"
     ]
    }
   ],
   "source": [
    "#Let's evaluate model on Validation dataset and note test loss and test accuracy:\n",
    "test_loss,test_accuracy = model_exp_2.evaluate(test_images,test_labels)\n",
    "print(\"[TEST LOSS]::\",test_loss)\n",
    "print(\"[TEST ACCURACY]::\",test_accuracy)"
   ]
  },
  {
   "cell_type": "markdown",
   "metadata": {},
   "source": [
    "**Results::**\n",
    "- Observations-->\n",
    "- **Case-1::**\n",
    "    - Total Training time required(in case of **32 filters in first Convolution layer** and **64 filters in second Convolution layer**):: 222 Seconds\n",
    "    - Accuracy::\n",
    "        - Training::90%\n",
    "        - Testing::90%\n",
    "- **Case-2::**\n",
    "    - Total Training time required(in case of **16 filters in first Convolution layer** and **32 filters in second Convolution layer**):: 96 Seconds\n",
    "    - Accuracy::\n",
    "        - Training::88%\n",
    "        - Testing::88%\n",
    "- **Case-3::**    \n",
    "    - Total Training time required(by **droping second Convolution layer** but **keeping second Pooling layer** as it is)::109 Seconds \n",
    "    - Accuracy::\n",
    "        - Training::89%\n",
    "        - Testing::88%\n",
    "\n",
    "**Conclusion::**\n",
    "- By observing the above result we can say that if we drop the second covolution layer but keep 2nd Pooling layer as it is we get Training accuracy is 89%(which is slightly less in Case-1) in 109 Seconds.\n",
    "\n",
    "**Sol::**\n",
    "- To reduce this training time even further or I can say to perform training more faster we can use **GPU** support."
   ]
  },
  {
   "cell_type": "markdown",
   "metadata": {},
   "source": [
    "### EXPERIMENT :: 3-->\n",
    "- **Objective::** \n",
    "    - Effect of adding more Convolution layers. \n",
    "    - Measure its impact on Accuracy and Training Time.\n",
    "\n",
    "_[NOTE:We are keeping rest of the parameters**(number of neurons in Dense layers,activation function in both Convolution and Dense layers)** same to measure extact impact of Change in Filter numbers on Accuracy and Training Time]_."
   ]
  },
  {
   "cell_type": "code",
   "execution_count": 51,
   "metadata": {},
   "outputs": [],
   "source": [
    "#STEP-1--> Construct the Model::\n",
    "#Create an instance of class 'Sequential'(it basically tells that our Model consist stack of layers):\n",
    "model_exp_3 = tf.keras.models.Sequential()\n",
    "\n",
    "#Add layers to model:\n",
    "#Specifiy 16 filters of 3x3 at 1st Convolution layer-->\n",
    "model_exp_3.add(tf.keras.layers.Conv2D(16,(3,3),activation=tf.nn.relu,input_shape=(28,28,1)))\n",
    "model_exp_3.add(tf.keras.layers.MaxPooling2D(pool_size=(2,2)))\n",
    "\n",
    "#Specifiy 32 filters of 3x3 at 2nd Convolution layer-->\n",
    "model_exp_3.add(tf.keras.layers.Conv2D(32,(3,3),activation=tf.nn.relu))\n",
    "model_exp_3.add(tf.keras.layers.MaxPooling2D(pool_size=(2,2)))\n",
    "\n",
    "#Specifiy 64 filters of 3x3 at 3rd Convolution layer-->\n",
    "model_exp_3.add(tf.keras.layers.Conv2D(64,(3,3),activation=tf.nn.relu))\n",
    "model_exp_3.add(tf.keras.layers.MaxPool2D(pool_size=(2,2)))\n",
    "\n",
    "#Input Flatten layer for gievn to Dense Layer-->\n",
    "model_exp_3.add(tf.keras.layers.Flatten())\n",
    "\n",
    "#Add 2 Dense layers-->\n",
    "model_exp_3.add(tf.keras.layers.Dense(128,activation=tf.nn.relu))\n",
    "model_exp_3.add(tf.keras.layers.Dense(256,activation=tf.nn.relu))\n",
    "\n",
    "#Add Output layers-->\n",
    "model_exp_3.add(tf.keras.layers.Dense(10,activation=tf.nn.softmax))"
   ]
  },
  {
   "cell_type": "code",
   "execution_count": 52,
   "metadata": {},
   "outputs": [
    {
     "name": "stdout",
     "output_type": "stream",
     "text": [
      "Model: \"sequential_7\"\n",
      "_________________________________________________________________\n",
      "Layer (type)                 Output Shape              Param #   \n",
      "=================================================================\n",
      "conv2d_9 (Conv2D)            (None, 26, 26, 16)        160       \n",
      "_________________________________________________________________\n",
      "max_pooling2d_9 (MaxPooling2 (None, 13, 13, 16)        0         \n",
      "_________________________________________________________________\n",
      "conv2d_10 (Conv2D)           (None, 11, 11, 32)        4640      \n",
      "_________________________________________________________________\n",
      "max_pooling2d_10 (MaxPooling (None, 5, 5, 32)          0         \n",
      "_________________________________________________________________\n",
      "conv2d_11 (Conv2D)           (None, 3, 3, 64)          18496     \n",
      "_________________________________________________________________\n",
      "max_pooling2d_11 (MaxPooling (None, 1, 1, 64)          0         \n",
      "_________________________________________________________________\n",
      "flatten_5 (Flatten)          (None, 64)                0         \n",
      "_________________________________________________________________\n",
      "dense_15 (Dense)             (None, 128)               8320      \n",
      "_________________________________________________________________\n",
      "dense_16 (Dense)             (None, 256)               33024     \n",
      "_________________________________________________________________\n",
      "dense_17 (Dense)             (None, 10)                2570      \n",
      "=================================================================\n",
      "Total params: 67,210\n",
      "Trainable params: 67,210\n",
      "Non-trainable params: 0\n",
      "_________________________________________________________________\n"
     ]
    }
   ],
   "source": [
    "#Print Model summary:\n",
    "model_exp_3.summary()"
   ]
  },
  {
   "cell_type": "code",
   "execution_count": 53,
   "metadata": {},
   "outputs": [],
   "source": [
    "#Configuare/Compile the model for training:\n",
    "model_exp_3.compile(optimizer='adam',\n",
    "                   loss=tf.keras.losses.sparse_categorical_crossentropy,\n",
    "                   metrics=['accuracy'])"
   ]
  },
  {
   "cell_type": "code",
   "execution_count": 54,
   "metadata": {},
   "outputs": [
    {
     "name": "stdout",
     "output_type": "stream",
     "text": [
      "Train on 60000 samples\n",
      "Epoch 1/3\n",
      "60000/60000 [==============================] - 44s 731us/sample - loss: 0.6210 - acc: 0.7710\n",
      "Epoch 2/3\n",
      "60000/60000 [==============================] - 44s 731us/sample - loss: 0.4065 - acc: 0.8518\n",
      "Epoch 3/3\n",
      "60000/60000 [==============================] - 44s 729us/sample - loss: 0.3524 - acc: 0.8698\n"
     ]
    },
    {
     "data": {
      "text/plain": [
       "<tensorflow.python.keras.callbacks.History at 0x22779b35348>"
      ]
     },
     "execution_count": 54,
     "metadata": {},
     "output_type": "execute_result"
    }
   ],
   "source": [
    "#Fit the model with Training data and specify number of epochs:\n",
    "model_exp_3.fit(train_images,train_labels,epochs=3)"
   ]
  },
  {
   "cell_type": "code",
   "execution_count": 55,
   "metadata": {},
   "outputs": [
    {
     "name": "stdout",
     "output_type": "stream",
     "text": [
      "10000/10000 [==============================] - 3s 257us/sample - loss: 0.3903 - acc: 0.8529\n",
      "[TEST LOSS]:: 0.3902632870674133\n",
      "[TEST ACCURACY]:: 0.8529\n"
     ]
    }
   ],
   "source": [
    "#Let's evaluate model on Validation dataset and note test loss and test accuracy:\n",
    "test_loss,test_accuracy = model_exp_3.evaluate(test_images,test_labels)\n",
    "print(\"[TEST LOSS]::\",test_loss)\n",
    "print(\"[TEST ACCURACY]::\",test_accuracy)"
   ]
  },
  {
   "cell_type": "markdown",
   "metadata": {},
   "source": [
    "**Results::**\n",
    "- Observations-->\n",
    "- **Case-1::**\n",
    "    - Total Training time required(in case of **32 filters in first Convolution layer** and **64 filters in second Convolution layer**):: 222 Seconds\n",
    "    - Accuracy::\n",
    "        - Training::90%\n",
    "        - Testing::90%\n",
    "- **Case-2::**\n",
    "    - Total Training time required(in case of **16 filters in first Convolution layer** and **32 filters in second Convolution layer**):: 96 Seconds\n",
    "    - Accuracy::\n",
    "        - Training::88%\n",
    "        - Testing::88%\n",
    "- **Case-3::**    \n",
    "    - Total Training time required(by **droping second Convolution layer** but **keeping second Pooling layer** as it is)::109 Seconds \n",
    "    - Accuracy::\n",
    "        - Training::89%\n",
    "        - Testing::88%\n",
    "- **Case-4::**    \n",
    "    - Total Training time required(by **adding more convolution and pooling layer**)::132 Seconds \n",
    "    - Accuracy::\n",
    "        - Training::86%\n",
    "        - Testing::85%\n",
    "\n",
    "**Conclusion::**\n",
    "- By observing the above result we can say that if we add more convolution as well as pooling layer in our model we get Training accuracy is 86%(which is less in all 3 previous cases) in 132 Seconds.\n",
    "\n",
    "**Sol::**\n",
    "- Need to find sweet point."
   ]
  },
  {
   "cell_type": "markdown",
   "metadata": {},
   "source": [
    "### EXPERIMENT :: 4-->\n",
    "Objective:: \n",
    "   - Removation of all Convolution layers except 1st one.\n",
    "   - Measure effect on Accuracy and Training time.\n",
    "\n",
    "[NOTE:We are keeping rest of the parameters**(number of neurons in Dense layers,activation function in both Convolution and Dense layers)** same to measure extact impact of Change in Filter numbers on Accuracy and Training Time]."
   ]
  },
  {
   "cell_type": "code",
   "execution_count": null,
   "metadata": {},
   "outputs": [],
   "source": []
  },
  {
   "cell_type": "code",
   "execution_count": null,
   "metadata": {},
   "outputs": [],
   "source": []
  },
  {
   "cell_type": "code",
   "execution_count": null,
   "metadata": {},
   "outputs": [],
   "source": []
  },
  {
   "cell_type": "code",
   "execution_count": null,
   "metadata": {},
   "outputs": [],
   "source": []
  },
  {
   "cell_type": "code",
   "execution_count": null,
   "metadata": {},
   "outputs": [],
   "source": []
  },
  {
   "cell_type": "markdown",
   "metadata": {},
   "source": [
    "### EXPERIMENT :: 5-->\n",
    "Objective:: \n",
    "   - Implementation of CallBack function.\n",
    "   - Going with Case-1 approach for building the model.\n",
    "\n",
    "[NOTE:We are keeping rest of the parameters(number of neurons in Dense layers,activation function in both Convolution and Dense layers) same to measure extact impact of Change in Filter numbers on Accuracy and Training Time]."
   ]
  },
  {
   "cell_type": "code",
   "execution_count": 76,
   "metadata": {},
   "outputs": [],
   "source": [
    "#Implement CallBack:\n",
    "#Define a class named myCallBack(which is going to derive from superclass \"CallBack\"):\n",
    "class myCallBack(tf.keras.callbacks.Callback):\n",
    "    #Define a function for monitoring accuracy after each epoch end:\n",
    "    def on_epoch_end(self,epoch,logs={}):\n",
    "        if logs.get('acc') > 0.91:\n",
    "            print(\"\\n[MESSAGE]::Reached 91% accuracy so stopped further training!\")\n",
    "            self.model.stop_training = True\n",
    "\n",
    "#Create an instance of myCallBack class:\n",
    "call_back = myCallBack()\n",
    "\n",
    "#Construct the Model:\n",
    "model_exp_5 = tf.keras.models.Sequential([tf.keras.layers.Conv2D(32,(3,3),activation=tf.nn.relu,input_shape=(28,28,1)),\n",
    "                                          tf.keras.layers.MaxPooling2D(pool_size=(2,2)),\n",
    "                                          tf.keras.layers.Conv2D(64,(3,3),activation=tf.nn.relu),\n",
    "                                          tf.keras.layers.MaxPooling2D(pool_size=(2,2)),\n",
    "                                          tf.keras.layers.Flatten(),\n",
    "                                          tf.keras.layers.Dense(128,activation=tf.nn.relu),\n",
    "                                          tf.keras.layers.Dense(256,activation=tf.nn.relu),\n",
    "                                          tf.keras.layers.Dense(10,activation=tf.nn.softmax)])"
   ]
  },
  {
   "cell_type": "code",
   "execution_count": 73,
   "metadata": {},
   "outputs": [
    {
     "name": "stdout",
     "output_type": "stream",
     "text": [
      "Model: \"sequential_10\"\n",
      "_________________________________________________________________\n",
      "Layer (type)                 Output Shape              Param #   \n",
      "=================================================================\n",
      "conv2d_16 (Conv2D)           (None, 26, 26, 32)        320       \n",
      "_________________________________________________________________\n",
      "max_pooling2d_16 (MaxPooling (None, 13, 13, 32)        0         \n",
      "_________________________________________________________________\n",
      "conv2d_17 (Conv2D)           (None, 11, 11, 64)        18496     \n",
      "_________________________________________________________________\n",
      "max_pooling2d_17 (MaxPooling (None, 5, 5, 64)          0         \n",
      "_________________________________________________________________\n",
      "flatten_8 (Flatten)          (None, 1600)              0         \n",
      "_________________________________________________________________\n",
      "dense_24 (Dense)             (None, 128)               204928    \n",
      "_________________________________________________________________\n",
      "dense_25 (Dense)             (None, 256)               33024     \n",
      "_________________________________________________________________\n",
      "dense_26 (Dense)             (None, 10)                2570      \n",
      "=================================================================\n",
      "Total params: 259,338\n",
      "Trainable params: 259,338\n",
      "Non-trainable params: 0\n",
      "_________________________________________________________________\n"
     ]
    }
   ],
   "source": [
    "#Print Model summary:\n",
    "model_exp_5.summary()"
   ]
  },
  {
   "cell_type": "code",
   "execution_count": 78,
   "metadata": {},
   "outputs": [],
   "source": [
    "#Configure the model for training:\n",
    "model_exp_5.compile(optimizer='adam',\n",
    "                   loss=tf.keras.losses.sparse_categorical_crossentropy,\n",
    "                   metrics=['accuracy'])"
   ]
  },
  {
   "cell_type": "code",
   "execution_count": 79,
   "metadata": {},
   "outputs": [
    {
     "name": "stdout",
     "output_type": "stream",
     "text": [
      "Train on 60000 samples\n",
      "Epoch 1/5\n",
      "60000/60000 [==============================] - 78s 1ms/sample - loss: 0.4547 - acc: 0.8333\n",
      "Epoch 2/5\n",
      "60000/60000 [==============================] - 79s 1ms/sample - loss: 0.2930 - acc: 0.8922\n",
      "Epoch 3/5\n",
      "60000/60000 [==============================] - 75s 1ms/sample - loss: 0.2475 - acc: 0.9086\n",
      "Epoch 4/5\n",
      "59968/60000 [============================>.] - ETA: 0s - loss: 0.2154 - acc: 0.9196\n",
      "[MESSAGE]::Reached 91% accuracy so stopped further training!\n",
      "60000/60000 [==============================] - 80s 1ms/sample - loss: 0.2155 - acc: 0.9196\n"
     ]
    },
    {
     "data": {
      "text/plain": [
       "<tensorflow.python.keras.callbacks.History at 0x22778684888>"
      ]
     },
     "execution_count": 79,
     "metadata": {},
     "output_type": "execute_result"
    }
   ],
   "source": [
    "#Fit the model with Training data and specify number of epochs:\n",
    "model_exp_5.fit(train_images,train_labels,epochs=5,callbacks=[call_back])"
   ]
  },
  {
   "cell_type": "code",
   "execution_count": 80,
   "metadata": {},
   "outputs": [
    {
     "name": "stdout",
     "output_type": "stream",
     "text": [
      "10000/10000 [==============================] - 5s 452us/sample - loss: 0.2610 - acc: 0.9037\n",
      "[TEST LOSS]:: 0.2610350433886051\n",
      "[TEST ACCURACY]:: 0.9037\n"
     ]
    }
   ],
   "source": [
    "#Let's evaluate model on Validation dataset and note test loss and test accuracy:\n",
    "test_loss,test_accuracy = model_exp_5.evaluate(test_images,test_labels)\n",
    "print(\"[TEST LOSS]::\",test_loss)\n",
    "print(\"[TEST ACCURACY]::\",test_accuracy)"
   ]
  },
  {
   "cell_type": "markdown",
   "metadata": {},
   "source": [
    "### !----------------JUST EXPERIMENT---------------------!"
   ]
  },
  {
   "cell_type": "code",
   "execution_count": 89,
   "metadata": {},
   "outputs": [
    {
     "data": {
      "text/plain": [
       "'1.15.2'"
      ]
     },
     "execution_count": 89,
     "metadata": {},
     "output_type": "execute_result"
    }
   ],
   "source": [
    "tf.__version__"
   ]
  },
  {
   "cell_type": "code",
   "execution_count": 88,
   "metadata": {},
   "outputs": [
    {
     "name": "stdout",
     "output_type": "stream",
     "text": [
      "Train on 60000 samples\n",
      "Epoch 1/10\n",
      "60000/60000 [==============================] - 14s 226us/sample - loss: 0.6002 - acc: 0.8545\n",
      "Epoch 2/10\n",
      "60000/60000 [==============================] - 13s 219us/sample - loss: 0.3215 - acc: 0.9106\n",
      "Epoch 3/10\n",
      "60000/60000 [==============================] - 13s 221us/sample - loss: 0.2739 - acc: 0.9236\n",
      "Epoch 4/10\n",
      "60000/60000 [==============================] - 13s 221us/sample - loss: 0.2437 - acc: 0.9326\n",
      "Epoch 5/10\n",
      "60000/60000 [==============================] - 14s 225us/sample - loss: 0.2207 - acc: 0.9387\n",
      "Epoch 6/10\n",
      "60000/60000 [==============================] - 13s 222us/sample - loss: 0.2021 - acc: 0.9438\n",
      "Epoch 7/10\n",
      "60000/60000 [==============================] - 13s 219us/sample - loss: 0.1861 - acc: 0.9483\n",
      "Epoch 8/10\n",
      "59840/60000 [============================>.] - ETA: 0s - loss: 0.1729 - acc: 0.9519\n",
      "[MESSAGE]::Reached 95.19 Accuracy.So,the Model Training has stopped..!\n",
      "60000/60000 [==============================] - 13s 218us/sample - loss: 0.1728 - acc: 0.9519\n",
      "\n",
      "[TRAINING HISTORY]-->\n",
      ":: {'loss': [0.6002270574490229, 0.3214635694702466, 0.27391503539482753, 0.24371347932020823, 0.22074960346122582, 0.20209162058532237, 0.18605757680336635, 0.1728227297961712], 'acc': [0.8544667, 0.9105667, 0.92361665, 0.93255, 0.93873334, 0.9438, 0.9483, 0.9519]}\n",
      "\n",
      "[REQUIRED EPOCHS TO REACH DESIRED ACCURACY]-->\n",
      ":: [0, 1, 2, 3, 4, 5, 6, 7]\n",
      "\n",
      "[ACCURACY THRESHOLD AT LAST EPOCH]-->\n",
      ":: 0.9519\n"
     ]
    }
   ],
   "source": [
    "import tensorflow as tf \n",
    "def train_set():\n",
    "    class MyCallBacks(tf.keras.callbacks.Callback):\n",
    "        def on_epoch_end(self,epoch,logs={}):\n",
    "            if(logs.get('acc') > 0.95):\n",
    "                print('\\n[MESSAGE]::Reached %.2f Accuracy.So,the Model Training has stopped..!'%(logs.get('acc')*100))\n",
    "                self.model.stop_training=True\n",
    "    callbacks=MyCallBacks()\n",
    "    mnist_dataset=tf.keras.datasets.mnist \n",
    "    (x_train,y_train),(x_test,y_test)=mnist_dataset.load_data()\n",
    "    x_train=x_train/255.0\n",
    "    x_test=x_test/255.0\n",
    "    classifier=tf.keras.Sequential([\n",
    "                                    tf.keras.layers.Flatten(input_shape=(28,28)),\n",
    "                                    tf.keras.layers.Dense(512,activation=tf.nn.relu),\n",
    "                                    tf.keras.layers.Dense(10,activation=tf.nn.softmax)\n",
    "                                    ])\n",
    "    classifier.compile(\n",
    "                        optimizer='sgd',\n",
    "                        loss='sparse_categorical_crossentropy',\n",
    "                        metrics=['accuracy']\n",
    "                       )    \n",
    "    history=classifier.fit(x_train,y_train,epochs=10,callbacks=[callbacks])\n",
    "    return history.history,history.epoch,history.history['acc'][-1]\n",
    "#Call the function::\n",
    "training_history,required_epochs,accuracy_threshold = train_set()\n",
    "print(\"\\n[TRAINING HISTORY]-->\\n::\",training_history)\n",
    "print(\"\\n[REQUIRED EPOCHS TO REACH DESIRED ACCURACY]-->\\n::\",required_epochs)\n",
    "print(\"\\n[ACCURACY THRESHOLD AT LAST EPOCH]-->\\n::\",accuracy_threshold)"
   ]
  },
  {
   "cell_type": "markdown",
   "metadata": {},
   "source": [
    "### ! END !"
   ]
  }
 ],
 "metadata": {
  "kernelspec": {
   "display_name": "Python 3",
   "language": "python",
   "name": "python3"
  },
  "language_info": {
   "codemirror_mode": {
    "name": "ipython",
    "version": 3
   },
   "file_extension": ".py",
   "mimetype": "text/x-python",
   "name": "python",
   "nbconvert_exporter": "python",
   "pygments_lexer": "ipython3",
   "version": "3.7.7"
  }
 },
 "nbformat": 4,
 "nbformat_minor": 4
}
